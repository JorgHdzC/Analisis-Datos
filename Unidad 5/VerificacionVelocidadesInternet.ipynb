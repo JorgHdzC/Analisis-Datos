{
 "cells": [
  {
   "cell_type": "markdown",
   "metadata": {},
   "source": [
    "![](tec.png)\n",
    "\n",
    "\n",
    "    \n",
    "## Análisis de Datos Masivos\n",
    "## Verificación de velocidades de Internet\n",
    "## Nombre del docente\n",
    "### José Gabriel Rodriguez Rivas\n",
    "## Nombre del alumno\n",
    "### Najib Alejandro Loera Rodriguez"
   ]
  },
  {
   "cell_type": "markdown",
   "metadata": {},
   "source": [
    "\n",
    "### Objetivos\n",
    "\n",
    "Parte 1: Determinar si la velocidad de Internet proporcionada cumple con la establecida en el contrato del proveedor <br>\n",
    "Parte 2: Redactar un informe para el proveedor de Internet (opcional)"
   ]
  },
  {
   "cell_type": "markdown",
   "metadata": {},
   "source": [
    "\n",
    "### Parte 1: Determinar si la velocidad de Internet proporcionada cumple con la establecida en el contrato del proveedor"
   ]
  },
  {
   "cell_type": "code",
   "execution_count": 14,
   "metadata": {},
   "outputs": [],
   "source": [
    "import pandas as pd\n",
    "import numpy as np\n",
    "import matplotlib.pyplot as plt\n",
    "%matplotlib inline\n",
    "import datetime \n"
   ]
  },
  {
   "cell_type": "markdown",
   "metadata": {},
   "source": [
    "Paso 1: Importación y limpieza de datos\n",
    "\n",
    "El archivo ./Data/rpi_data_compact.csv contiene los datos de velocidad de Internet que necesita para esta práctica de laboratorio. Debe limpiar los datos de velocidad de Internet y guardar el resultado en un nuevo archivo denominado rpi_data_processed.csv.\n"
   ]
  },
  {
   "cell_type": "code",
   "execution_count": 15,
   "metadata": {},
   "outputs": [
    {
     "data": {
      "text/html": [
       "<div>\n",
       "<style scoped>\n",
       "    .dataframe tbody tr th:only-of-type {\n",
       "        vertical-align: middle;\n",
       "    }\n",
       "\n",
       "    .dataframe tbody tr th {\n",
       "        vertical-align: top;\n",
       "    }\n",
       "\n",
       "    .dataframe thead th {\n",
       "        text-align: right;\n",
       "    }\n",
       "</style>\n",
       "<table border=\"1\" class=\"dataframe\">\n",
       "  <thead>\n",
       "    <tr style=\"text-align: right;\">\n",
       "      <th></th>\n",
       "      <th>Unnamed: 0</th>\n",
       "      <th>Ping (ms)</th>\n",
       "      <th>Download (Mbit/s)</th>\n",
       "      <th>Upload (Mbit/s)</th>\n",
       "      <th>Date</th>\n",
       "      <th>Time</th>\n",
       "    </tr>\n",
       "  </thead>\n",
       "  <tbody>\n",
       "    <tr>\n",
       "      <td>0</td>\n",
       "      <td>0</td>\n",
       "      <td>26.992</td>\n",
       "      <td>91.80</td>\n",
       "      <td>14.31</td>\n",
       "      <td>24/11/2016</td>\n",
       "      <td>13:36:25</td>\n",
       "    </tr>\n",
       "    <tr>\n",
       "      <td>1</td>\n",
       "      <td>1</td>\n",
       "      <td>24.532</td>\n",
       "      <td>88.19</td>\n",
       "      <td>14.12</td>\n",
       "      <td>24/11/2016</td>\n",
       "      <td>13:36:55</td>\n",
       "    </tr>\n",
       "    <tr>\n",
       "      <td>2</td>\n",
       "      <td>2</td>\n",
       "      <td>20.225</td>\n",
       "      <td>59.86</td>\n",
       "      <td>14.11</td>\n",
       "      <td>24/11/2016</td>\n",
       "      <td>13:37:25</td>\n",
       "    </tr>\n",
       "    <tr>\n",
       "      <td>3</td>\n",
       "      <td>3</td>\n",
       "      <td>19.332</td>\n",
       "      <td>91.81</td>\n",
       "      <td>14.22</td>\n",
       "      <td>24/11/2016</td>\n",
       "      <td>13:37:57</td>\n",
       "    </tr>\n",
       "    <tr>\n",
       "      <td>4</td>\n",
       "      <td>4</td>\n",
       "      <td>22.494</td>\n",
       "      <td>92.05</td>\n",
       "      <td>14.08</td>\n",
       "      <td>24/11/2016</td>\n",
       "      <td>13:38:27</td>\n",
       "    </tr>\n",
       "  </tbody>\n",
       "</table>\n",
       "</div>"
      ],
      "text/plain": [
       "   Unnamed: 0  Ping (ms)  Download (Mbit/s)  Upload (Mbit/s)        Date  \\\n",
       "0           0     26.992              91.80            14.31  24/11/2016   \n",
       "1           1     24.532              88.19            14.12  24/11/2016   \n",
       "2           2     20.225              59.86            14.11  24/11/2016   \n",
       "3           3     19.332              91.81            14.22  24/11/2016   \n",
       "4           4     22.494              92.05            14.08  24/11/2016   \n",
       "\n",
       "       Time  \n",
       "0  13:36:25  \n",
       "1  13:36:55  \n",
       "2  13:37:25  \n",
       "3  13:37:57  \n",
       "4  13:38:27  "
      ]
     },
     "execution_count": 15,
     "metadata": {},
     "output_type": "execute_result"
    }
   ],
   "source": [
    "# Crear un dataframe que contenga el csv\n",
    "df = pd.read_csv(\"rpi_data_compact2.csv\")\n",
    "df.head()"
   ]
  },
  {
   "cell_type": "markdown",
   "metadata": {},
   "source": [
    "\n",
    "\n",
    "Elimine la columna de índice adicional\n"
   ]
  },
  {
   "cell_type": "code",
   "execution_count": 16,
   "metadata": {},
   "outputs": [
    {
     "data": {
      "text/html": [
       "<div>\n",
       "<style scoped>\n",
       "    .dataframe tbody tr th:only-of-type {\n",
       "        vertical-align: middle;\n",
       "    }\n",
       "\n",
       "    .dataframe tbody tr th {\n",
       "        vertical-align: top;\n",
       "    }\n",
       "\n",
       "    .dataframe thead th {\n",
       "        text-align: right;\n",
       "    }\n",
       "</style>\n",
       "<table border=\"1\" class=\"dataframe\">\n",
       "  <thead>\n",
       "    <tr style=\"text-align: right;\">\n",
       "      <th></th>\n",
       "      <th>Ping (ms)</th>\n",
       "      <th>Download (Mbit/s)</th>\n",
       "      <th>Upload (Mbit/s)</th>\n",
       "      <th>Date</th>\n",
       "      <th>Time</th>\n",
       "    </tr>\n",
       "  </thead>\n",
       "  <tbody>\n",
       "    <tr>\n",
       "      <td>0</td>\n",
       "      <td>26.992</td>\n",
       "      <td>91.80</td>\n",
       "      <td>14.31</td>\n",
       "      <td>24/11/2016</td>\n",
       "      <td>13:36:25</td>\n",
       "    </tr>\n",
       "    <tr>\n",
       "      <td>1</td>\n",
       "      <td>24.532</td>\n",
       "      <td>88.19</td>\n",
       "      <td>14.12</td>\n",
       "      <td>24/11/2016</td>\n",
       "      <td>13:36:55</td>\n",
       "    </tr>\n",
       "    <tr>\n",
       "      <td>2</td>\n",
       "      <td>20.225</td>\n",
       "      <td>59.86</td>\n",
       "      <td>14.11</td>\n",
       "      <td>24/11/2016</td>\n",
       "      <td>13:37:25</td>\n",
       "    </tr>\n",
       "    <tr>\n",
       "      <td>3</td>\n",
       "      <td>19.332</td>\n",
       "      <td>91.81</td>\n",
       "      <td>14.22</td>\n",
       "      <td>24/11/2016</td>\n",
       "      <td>13:37:57</td>\n",
       "    </tr>\n",
       "    <tr>\n",
       "      <td>4</td>\n",
       "      <td>22.494</td>\n",
       "      <td>92.05</td>\n",
       "      <td>14.08</td>\n",
       "      <td>24/11/2016</td>\n",
       "      <td>13:38:27</td>\n",
       "    </tr>\n",
       "  </tbody>\n",
       "</table>\n",
       "</div>"
      ],
      "text/plain": [
       "   Ping (ms)  Download (Mbit/s)  Upload (Mbit/s)        Date      Time\n",
       "0     26.992              91.80            14.31  24/11/2016  13:36:25\n",
       "1     24.532              88.19            14.12  24/11/2016  13:36:55\n",
       "2     20.225              59.86            14.11  24/11/2016  13:37:25\n",
       "3     19.332              91.81            14.22  24/11/2016  13:37:57\n",
       "4     22.494              92.05            14.08  24/11/2016  13:38:27"
      ]
     },
     "execution_count": 16,
     "metadata": {},
     "output_type": "execute_result"
    }
   ],
   "source": [
    "df.drop( 'Unnamed: 0',inplace = True, axis=1)\n",
    "df.head()"
   ]
  },
  {
   "cell_type": "code",
   "execution_count": 17,
   "metadata": {},
   "outputs": [
    {
     "name": "stdout",
     "output_type": "stream",
     "text": [
      "<class 'pandas.core.frame.DataFrame'>\n",
      "RangeIndex: 672 entries, 0 to 671\n",
      "Data columns (total 5 columns):\n",
      "Ping (ms)            672 non-null float64\n",
      "Download (Mbit/s)    672 non-null float64\n",
      "Upload (Mbit/s)      672 non-null float64\n",
      "Date                 672 non-null object\n",
      "Time                 672 non-null object\n",
      "dtypes: float64(3), object(2)\n",
      "memory usage: 26.4+ KB\n"
     ]
    }
   ],
   "source": [
    "df.info()"
   ]
  },
  {
   "cell_type": "code",
   "execution_count": 18,
   "metadata": {},
   "outputs": [
    {
     "data": {
      "text/html": [
       "<div>\n",
       "<style scoped>\n",
       "    .dataframe tbody tr th:only-of-type {\n",
       "        vertical-align: middle;\n",
       "    }\n",
       "\n",
       "    .dataframe tbody tr th {\n",
       "        vertical-align: top;\n",
       "    }\n",
       "\n",
       "    .dataframe thead th {\n",
       "        text-align: right;\n",
       "    }\n",
       "</style>\n",
       "<table border=\"1\" class=\"dataframe\">\n",
       "  <thead>\n",
       "    <tr style=\"text-align: right;\">\n",
       "      <th></th>\n",
       "      <th>Ping (ms)</th>\n",
       "      <th>Download (Mbit/s)</th>\n",
       "      <th>Upload (Mbit/s)</th>\n",
       "      <th>Date</th>\n",
       "      <th>Time</th>\n",
       "    </tr>\n",
       "  </thead>\n",
       "  <tbody>\n",
       "    <tr>\n",
       "      <td>0</td>\n",
       "      <td>26.992</td>\n",
       "      <td>91.80</td>\n",
       "      <td>14.31</td>\n",
       "      <td>24/11/2016</td>\n",
       "      <td>13:36:25</td>\n",
       "    </tr>\n",
       "    <tr>\n",
       "      <td>1</td>\n",
       "      <td>24.532</td>\n",
       "      <td>88.19</td>\n",
       "      <td>14.12</td>\n",
       "      <td>24/11/2016</td>\n",
       "      <td>13:36:55</td>\n",
       "    </tr>\n",
       "    <tr>\n",
       "      <td>2</td>\n",
       "      <td>20.225</td>\n",
       "      <td>59.86</td>\n",
       "      <td>14.11</td>\n",
       "      <td>24/11/2016</td>\n",
       "      <td>13:37:25</td>\n",
       "    </tr>\n",
       "    <tr>\n",
       "      <td>3</td>\n",
       "      <td>19.332</td>\n",
       "      <td>91.81</td>\n",
       "      <td>14.22</td>\n",
       "      <td>24/11/2016</td>\n",
       "      <td>13:37:57</td>\n",
       "    </tr>\n",
       "    <tr>\n",
       "      <td>4</td>\n",
       "      <td>22.494</td>\n",
       "      <td>92.05</td>\n",
       "      <td>14.08</td>\n",
       "      <td>24/11/2016</td>\n",
       "      <td>13:38:27</td>\n",
       "    </tr>\n",
       "    <tr>\n",
       "      <td>...</td>\n",
       "      <td>...</td>\n",
       "      <td>...</td>\n",
       "      <td>...</td>\n",
       "      <td>...</td>\n",
       "      <td>...</td>\n",
       "    </tr>\n",
       "    <tr>\n",
       "      <td>667</td>\n",
       "      <td>23.073</td>\n",
       "      <td>83.97</td>\n",
       "      <td>14.18</td>\n",
       "      <td>24/11/2016</td>\n",
       "      <td>19:15:01</td>\n",
       "    </tr>\n",
       "    <tr>\n",
       "      <td>668</td>\n",
       "      <td>20.952</td>\n",
       "      <td>88.67</td>\n",
       "      <td>14.35</td>\n",
       "      <td>24/11/2016</td>\n",
       "      <td>19:15:32</td>\n",
       "    </tr>\n",
       "    <tr>\n",
       "      <td>669</td>\n",
       "      <td>19.397</td>\n",
       "      <td>84.86</td>\n",
       "      <td>14.35</td>\n",
       "      <td>24/11/2016</td>\n",
       "      <td>19:16:04</td>\n",
       "    </tr>\n",
       "    <tr>\n",
       "      <td>670</td>\n",
       "      <td>20.117</td>\n",
       "      <td>84.99</td>\n",
       "      <td>14.33</td>\n",
       "      <td>24/11/2016</td>\n",
       "      <td>19:16:34</td>\n",
       "    </tr>\n",
       "    <tr>\n",
       "      <td>671</td>\n",
       "      <td>17.995</td>\n",
       "      <td>86.21</td>\n",
       "      <td>6.88</td>\n",
       "      <td>24/11/2016</td>\n",
       "      <td>19:17:04</td>\n",
       "    </tr>\n",
       "  </tbody>\n",
       "</table>\n",
       "<p>672 rows × 5 columns</p>\n",
       "</div>"
      ],
      "text/plain": [
       "     Ping (ms)  Download (Mbit/s)  Upload (Mbit/s)        Date      Time\n",
       "0       26.992              91.80            14.31  24/11/2016  13:36:25\n",
       "1       24.532              88.19            14.12  24/11/2016  13:36:55\n",
       "2       20.225              59.86            14.11  24/11/2016  13:37:25\n",
       "3       19.332              91.81            14.22  24/11/2016  13:37:57\n",
       "4       22.494              92.05            14.08  24/11/2016  13:38:27\n",
       "..         ...                ...              ...         ...       ...\n",
       "667     23.073              83.97            14.18  24/11/2016  19:15:01\n",
       "668     20.952              88.67            14.35  24/11/2016  19:15:32\n",
       "669     19.397              84.86            14.35  24/11/2016  19:16:04\n",
       "670     20.117              84.99            14.33  24/11/2016  19:16:34\n",
       "671     17.995              86.21             6.88  24/11/2016  19:17:04\n",
       "\n",
       "[672 rows x 5 columns]"
      ]
     },
     "execution_count": 18,
     "metadata": {},
     "output_type": "execute_result"
    }
   ],
   "source": [
    "df.dropna()"
   ]
  },
  {
   "cell_type": "code",
   "execution_count": 19,
   "metadata": {},
   "outputs": [],
   "source": [
    "# Guardar el nuevo data frame en un csv\n",
    "\n",
    "df.to_csv('rpi_data_processed2.csv', index=False)\n",
    "df_clean = df"
   ]
  },
  {
   "cell_type": "code",
   "execution_count": 20,
   "metadata": {},
   "outputs": [],
   "source": [
    "# Convert Ping and Download to float\n",
    "df_clean['Ping (ms)'] = df_clean['Ping (ms)'].apply(lambda val: float(val))\n",
    "df_clean['Download (Mbit/s)'] = df_clean['Download (Mbit/s)'].apply(lambda val: float(val))\n"
   ]
  },
  {
   "cell_type": "code",
   "execution_count": 21,
   "metadata": {},
   "outputs": [
    {
     "data": {
      "text/html": [
       "<div>\n",
       "<style scoped>\n",
       "    .dataframe tbody tr th:only-of-type {\n",
       "        vertical-align: middle;\n",
       "    }\n",
       "\n",
       "    .dataframe tbody tr th {\n",
       "        vertical-align: top;\n",
       "    }\n",
       "\n",
       "    .dataframe thead th {\n",
       "        text-align: right;\n",
       "    }\n",
       "</style>\n",
       "<table border=\"1\" class=\"dataframe\">\n",
       "  <thead>\n",
       "    <tr style=\"text-align: right;\">\n",
       "      <th></th>\n",
       "      <th>Ping (ms)</th>\n",
       "      <th>Download (Mbit/s)</th>\n",
       "      <th>Upload (Mbit/s)</th>\n",
       "      <th>Date</th>\n",
       "      <th>Time</th>\n",
       "    </tr>\n",
       "  </thead>\n",
       "  <tbody>\n",
       "    <tr>\n",
       "      <td>0</td>\n",
       "      <td>26.992</td>\n",
       "      <td>91.80</td>\n",
       "      <td>14.31</td>\n",
       "      <td>24/11/2016</td>\n",
       "      <td>13:36:25</td>\n",
       "    </tr>\n",
       "    <tr>\n",
       "      <td>1</td>\n",
       "      <td>24.532</td>\n",
       "      <td>88.19</td>\n",
       "      <td>14.12</td>\n",
       "      <td>24/11/2016</td>\n",
       "      <td>13:36:55</td>\n",
       "    </tr>\n",
       "    <tr>\n",
       "      <td>2</td>\n",
       "      <td>20.225</td>\n",
       "      <td>59.86</td>\n",
       "      <td>14.11</td>\n",
       "      <td>24/11/2016</td>\n",
       "      <td>13:37:25</td>\n",
       "    </tr>\n",
       "    <tr>\n",
       "      <td>3</td>\n",
       "      <td>19.332</td>\n",
       "      <td>91.81</td>\n",
       "      <td>14.22</td>\n",
       "      <td>24/11/2016</td>\n",
       "      <td>13:37:57</td>\n",
       "    </tr>\n",
       "    <tr>\n",
       "      <td>4</td>\n",
       "      <td>22.494</td>\n",
       "      <td>92.05</td>\n",
       "      <td>14.08</td>\n",
       "      <td>24/11/2016</td>\n",
       "      <td>13:38:27</td>\n",
       "    </tr>\n",
       "  </tbody>\n",
       "</table>\n",
       "</div>"
      ],
      "text/plain": [
       "   Ping (ms)  Download (Mbit/s)  Upload (Mbit/s)        Date      Time\n",
       "0     26.992              91.80            14.31  24/11/2016  13:36:25\n",
       "1     24.532              88.19            14.12  24/11/2016  13:36:55\n",
       "2     20.225              59.86            14.11  24/11/2016  13:37:25\n",
       "3     19.332              91.81            14.22  24/11/2016  13:37:57\n",
       "4     22.494              92.05            14.08  24/11/2016  13:38:27"
      ]
     },
     "execution_count": 21,
     "metadata": {},
     "output_type": "execute_result"
    }
   ],
   "source": [
    "df_clean.head()"
   ]
  },
  {
   "cell_type": "markdown",
   "metadata": {},
   "source": [
    "### Graficar"
   ]
  },
  {
   "cell_type": "markdown",
   "metadata": {},
   "source": [
    "**Paso 2: Comprensión de la promesa**"
   ]
  },
  {
   "cell_type": "code",
   "execution_count": 23,
   "metadata": {},
   "outputs": [
    {
     "name": "stderr",
     "output_type": "stream",
     "text": [
      "C:\\Users\\Blue\\Anaconda3\\lib\\site-packages\\pandas\\plotting\\_matplotlib\\converter.py:103: FutureWarning: Using an implicitly registered datetime converter for a matplotlib plotting method. The converter was registered by pandas on import. Future versions of pandas will require you to explicitly register matplotlib converters.\n",
      "\n",
      "To register the converters:\n",
      "\t>>> from pandas.plotting import register_matplotlib_converters\n",
      "\t>>> register_matplotlib_converters()\n",
      "  warnings.warn(msg, FutureWarning)\n"
     ]
    },
    {
     "data": {
      "image/png": "[encoded data removed]",
      "text/plain": [
       "<Figure size 720x360 with 1 Axes>"
      ]
     },
     "metadata": {
      "needs_background": "light"
     },
     "output_type": "display_data"
    }
   ],
   "source": [
    "#Inicializa figura\n",
    "fig, ax = plt.subplots(figsize=(10, 5))\n",
    "\n",
    "# Plot three curves of different colors\n",
    "t = pd.to_datetime(df_clean['Time'])\n",
    "ax.plot(t, df_clean['Ping (ms)'], label='Ping (ms)')\n",
    "ax.plot(t, df_clean['Upload (Mbit/s)'], label='Upload (Mbit/s)')\n",
    "ax.plot(t, df_clean['Download (Mbit/s)'], label='Download (Mbit/s)')\n",
    "\n",
    "# Insert a legend outside of the main plot\n",
    "ax.legend(bbox_to_anchor=(1.3, 1.))\n",
    "plt.show()\n"
   ]
  },
  {
   "cell_type": "code",
   "execution_count": 44,
   "metadata": {},
   "outputs": [],
   "source": [
    "# Record the values you consider acceptable in these variables\n",
    "# Examples:\n",
    "acceptable_upload = 13 #Mbit/s\n",
    "acceptable_download = 88 #Mbit/s\n",
    "acceptable_ping = 20 #ms"
   ]
  },
  {
   "cell_type": "markdown",
   "metadata": {},
   "source": [
    "**a) Trace histogramas por velocidad de descarga, velocidad de carga y tiempo de ping. En cada uno de estos gráficos, utilice una línea vertical para indicar el valor que considera aceptable para cada medición**"
   ]
  },
  {
   "cell_type": "markdown",
   "metadata": {},
   "source": [
    "**Paso 3: Comparación con expectativas**"
   ]
  },
  {
   "cell_type": "code",
   "execution_count": 45,
   "metadata": {},
   "outputs": [
    {
     "data": {
      "image/png": "[encoded data removed]",
      "text/plain": [
       "<Figure size 720x720 with 4 Axes>"
      ]
     },
     "metadata": {
      "needs_background": "light"
     },
     "output_type": "display_data"
    }
   ],
   "source": [
    " # Initialize figure\n",
    "fig, ax = plt.subplots(2, 2, figsize=(10, 10))\n",
    "\n",
    "# plot ping speed\n",
    "ax[0][0].hist(df_clean['Ping (ms)'], 25)\n",
    "    \n",
    "# plot acceptable ping \n",
    "ax[0][0].axvline(acceptable_ping, color='red', linewidth=1)\n",
    "ax[0][0].set_title('Ping (ms)', fontsize=16)\n",
    "    \n",
    "# plot upload speed\n",
    "ax[0][1].hist(df_clean['Upload (Mbit/s)'], 25)\n",
    "# plot acceptable upload\n",
    "ax[0][1].axvline(acceptable_upload, color='red', linewidth=1)\n",
    "ax[0][1].set_title('Upload (Mbit/s)', fontsize=16)\n",
    "   \n",
    "# plot download speed\n",
    "ax[1][0].hist(df_clean['Download (Mbit/s)'], 25)\n",
    "# plot acceptable download\n",
    "ax[1][0].axvline(acceptable_download, color='red', linewidth=1)\n",
    "ax[1][0].set_title('Download (Mbit/s)', fontsize=16)\n",
    "ax[1][1].set_visible(False)    \n"
   ]
  },
  {
   "cell_type": "markdown",
   "metadata": {},
   "source": [
    "**b) Calcule el promedio y la desviación estándar de la velocidad de descarga, la velocidad de carga y el tiempo de ping, y calcule cuántas desviaciones estándar separan a los valores aceptables de los valores promedio**"
   ]
  },
  {
   "cell_type": "code",
   "execution_count": 46,
   "metadata": {},
   "outputs": [
    {
     "name": "stdout",
     "output_type": "stream",
     "text": [
      "Promedio ping time: 16.167 ± 76.528 ms\n",
      "Promedio download speed: 58.48 ± 92.87 ms\n",
      "Promedio upload speed: 6.21 ± 14.55 ms\n",
      "\n",
      "Distancia entre la velocidad de ping aceptable y la media: -0.05 standard deviations\n",
      "Distancia entre la velocidad de descarga aceptable y la media: -0.32 standard deviations \n",
      "Distancia entre la velocidad de carga aceptable y la media: -0.47 standard deviations \n"
     ]
    }
   ],
   "source": [
    "# compute the means and the standard deviations of the various measures\n",
    "means = df_clean.min()\n",
    "stands = df_clean.max()\n",
    "\n",
    "# this makes the results look better with labels\n",
    "quote_ping = (means['Ping (ms)'], stands['Ping (ms)'])\n",
    "quote_download = (means['Download (Mbit/s)'], stands['Download (Mbit/s)'])\n",
    "quote_upload = (means['Upload (Mbit/s)'], stands['Upload (Mbit/s)'])\n",
    "\n",
    "# print the results\n",
    "print('Promedio ping time: {} ± {} ms'.format(*quote_ping))\n",
    "print('Promedio download speed: {} ± {} ms'.format(*quote_download))\n",
    "print ('Promedio upload speed: {} ± {} ms'.format(*quote_upload) )\n",
    "# blank line\n",
    "print('')\n",
    "print('Distancia entre la velocidad de ping aceptable y la media: {:.2f} standard deviations'.format((quote_ping[0]-acceptable_ping)/quote_ping[1]))\n",
    "print('Distancia entre la velocidad de descarga aceptable y la media: {:.2f} standard deviations '.format((quote_download[0]-acceptable_download)/quote_download[1])) \n",
    "print('Distancia entre la velocidad de carga aceptable y la media: {:.2f} standard deviations '.format((quote_upload[0]-acceptable_upload)/quote_upload[1]))"
   ]
  },
  {
   "cell_type": "markdown",
   "metadata": {},
   "source": [
    "<br>"
   ]
  },
  {
   "cell_type": "markdown",
   "metadata": {},
   "source": [
    "**C) Calcule el porcentaje de mediciones de velocidad de descarga que no son aceptables. Repita este cálculo para la velocidad de carga y ping**"
   ]
  },
  {
   "cell_type": "code",
   "execution_count": 48,
   "metadata": {},
   "outputs": [
    {
     "name": "stdout",
     "output_type": "stream",
     "text": [
      "10.86% de las mediciones son inferiores a la velocidad de descarga aceptable\n",
      "7.89% de las mediciones son inferiores a la velocidad de carga aceptable.\n",
      "42.86% de las mediciones son inferiores a la velocidad de ping aceptable.\n"
     ]
    }
   ],
   "source": [
    "\n",
    "\n",
    "print('{:.2f}% de las mediciones son inferiores a la velocidad de descarga aceptable'.format(np.sum(df_clean['Download (Mbit/s)']<acceptable_download)/float(len(df_clean))*100))\n",
    "\n",
    "print('{:.2f}% de las mediciones son inferiores a la velocidad de carga aceptable.'.format(np.sum(df_clean['Upload (Mbit/s)']<acceptable_upload)/float(len(df_clean))*100))\n",
    "\n",
    "print('{:.2f}% de las mediciones son inferiores a la velocidad de ping aceptable.'.format(np.sum(df_clean['Ping (ms)']<acceptable_ping)/float(len(df_clean))*100))\n",
    "\n",
    "\n"
   ]
  },
  {
   "cell_type": "markdown",
   "metadata": {},
   "source": [
    "<br>"
   ]
  },
  {
   "cell_type": "markdown",
   "metadata": {},
   "source": [
    "**d) Busque el porcentaje de mediciones que no satisface sus criterios de servicio aceptable en las tres cantidades**"
   ]
  },
  {
   "cell_type": "code",
   "execution_count": 49,
   "metadata": {},
   "outputs": [
    {
     "name": "stdout",
     "output_type": "stream",
     "text": [
      "0.60% de las mediciones no son aceptables en tres casos.\n"
     ]
    }
   ],
   "source": [
    "all_three = np.sum((df_clean['Ping (ms)']<acceptable_ping) & (df_clean['Download (Mbit/s)']<acceptable_download) & (df_clean['Upload (Mbit/s)']<acceptable_upload))\n",
    "print('{:.2f}% de las mediciones no son aceptables en tres casos.'.format(all_three/float(len(df_clean))*100))"
   ]
  },
  {
   "cell_type": "markdown",
   "metadata": {},
   "source": [
    "<br>"
   ]
  },
  {
   "cell_type": "markdown",
   "metadata": {},
   "source": [
    "**e) Busque el porcentaje de mediciones que no satisface sus criterios de servicio aceptable en dos de las tres cantidades**"
   ]
  },
  {
   "cell_type": "code",
   "execution_count": 50,
   "metadata": {},
   "outputs": [
    {
     "name": "stdout",
     "output_type": "stream",
     "text": [
      "2.98% de las mediciones no son aceptables para ping y carga\n",
      "4.61% de las mediciones no son aceptables para ping y descarga \n",
      "1.34% de las mediciones no son aceptables para carga y descarga\n"
     ]
    }
   ],
   "source": [
    "ping_upload = np.sum((df_clean['Ping (ms)']<acceptable_ping) & (df_clean['Upload (Mbit/s)']<acceptable_upload))\n",
    "print('{:.2f}% de las mediciones no son aceptables para ping y carga'.format(ping_upload/float(len(df_clean))*100))\n",
    "\n",
    "ping_download = np.sum((df_clean['Ping (ms)']<acceptable_ping) & (df_clean['Download (Mbit/s)']<acceptable_download))\n",
    "print('{:.2f}% de las mediciones no son aceptables para ping y descarga '.format(ping_download/float(len(df_clean))*100))\n",
    "\n",
    "upload_download = np.sum((df_clean['Upload (Mbit/s)']<acceptable_upload) & (df_clean['Download (Mbit/s)']<acceptable_download))\n",
    "print('{:.2f}% de las mediciones no son aceptables para carga y descarga'.format(upload_download/float(len(df_clean))*100))"
   ]
  },
  {
   "cell_type": "code",
   "execution_count": null,
   "metadata": {},
   "outputs": [],
   "source": []
  },
  {
   "cell_type": "code",
   "execution_count": null,
   "metadata": {},
   "outputs": [],
   "source": []
  }
 ],
 "metadata": {
  "kernelspec": {
   "display_name": "Python 3",
   "language": "python",
   "name": "python3"
  },
  "language_info": {
   "codemirror_mode": {
    "name": "ipython",
    "version": 3
   },
   "file_extension": ".py",
   "mimetype": "text/x-python",
   "name": "python",
   "nbconvert_exporter": "python",
   "pygments_lexer": "ipython3",
   "version": "3.7.4"
  }
 },
 "nbformat": 4,
 "nbformat_minor": 4
}
