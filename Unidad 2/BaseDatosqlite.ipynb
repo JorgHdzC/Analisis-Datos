{
 "cells": [
  {
   "cell_type": "markdown",
   "metadata": {},
   "source": [
    "![](tec.png)\n",
    "\n",
    "\n",
    "    \n",
    "## Análisis de Datos Masivos\n",
    "## Bases de datos sqlite\n",
    "## Nombre del docente\n",
    "### José Gabriel Rodriguez Rivas\n",
    "## Nombre del alumno\n",
    "### Najib Alejandro Loera Rodriguez"
   ]
  },
  {
   "cell_type": "code",
   "execution_count": 1,
   "metadata": {},
   "outputs": [],
   "source": [
    "import sqlite3\n",
    "import pandas as pd\n",
    "from matplotlib import pyplot as plt\n",
    "%matplotlib inline"
   ]
  },
  {
   "cell_type": "code",
   "execution_count": 2,
   "metadata": {},
   "outputs": [],
   "source": [
    "conn= sqlite3.connect('phonebook.db')"
   ]
  },
  {
   "cell_type": "code",
   "execution_count": 3,
   "metadata": {},
   "outputs": [],
   "source": [
    "cur = conn.cursor()"
   ]
  },
  {
   "cell_type": "code",
   "execution_count": 4,
   "metadata": {},
   "outputs": [
    {
     "data": {
      "text/plain": [
       "<sqlite3.Cursor at 0x16ee3e2dd50>"
      ]
     },
     "execution_count": 4,
     "metadata": {},
     "output_type": "execute_result"
    }
   ],
   "source": [
    "query = \"SELECT name FROM coworkers;\"\n",
    "cur.execute(query)"
   ]
  },
  {
   "cell_type": "code",
   "execution_count": 5,
   "metadata": {},
   "outputs": [
    {
     "name": "stdout",
     "output_type": "stream",
     "text": [
      "('Han Solo',)\n",
      "('Leia Skywalker',)\n",
      "('Luke Skywalker',)\n",
      "('Obi-Wan Kenobi',)\n",
      "('Anakin Skywalker',)\n",
      "('Jabba The Hutt',)\n",
      "('Greedo',)\n",
      "('R2D2',)\n",
      "('C3PO',)\n"
     ]
    }
   ],
   "source": [
    "for a in cur:\n",
    "    print(a)"
   ]
  },
  {
   "cell_type": "markdown",
   "metadata": {},
   "source": [
    "### Proporcione el código para consultar los nombres de todas las princesas."
   ]
  },
  {
   "cell_type": "code",
   "execution_count": 14,
   "metadata": {},
   "outputs": [
    {
     "name": "stdout",
     "output_type": "stream",
     "text": [
      "('Leia Skywalker',)\n"
     ]
    }
   ],
   "source": [
    "query1 = \"SELECT name FROM coworkers where title='Princess';\"\n",
    "cur.execute(query1)\n",
    "for row in cur:\n",
    "    print(row)"
   ]
  },
  {
   "cell_type": "markdown",
   "metadata": {},
   "source": [
    "### Proporcione el código para consultar los nombres de todas las princesas y los recaudadores."
   ]
  },
  {
   "cell_type": "code",
   "execution_count": 15,
   "metadata": {},
   "outputs": [
    {
     "name": "stdout",
     "output_type": "stream",
     "text": [
      "('Leia Skywalker',)\n",
      "('Greedo',)\n"
     ]
    }
   ],
   "source": [
    "query2 = \"SELECT name FROM coworkers where title='Princess' or title='Debt Collector';\"\n",
    "cur.execute(query2)\n",
    "for x in cur:\n",
    "    print(x)"
   ]
  },
  {
   "cell_type": "markdown",
   "metadata": {},
   "source": [
    "###  Proporcione el código para consultar los nombres y los números de todos los Jedi."
   ]
  },
  {
   "cell_type": "code",
   "execution_count": 16,
   "metadata": {},
   "outputs": [
    {
     "name": "stdout",
     "output_type": "stream",
     "text": [
      "('Luke Skywalker', 5558963267)\n",
      "('Obi-Wan Kenobi', 5558963276)\n"
     ]
    }
   ],
   "source": [
    "query3 = \"SELECT name, number FROM coworkers where title='Jedi' ;\"\n",
    "cur.execute(query3)\n",
    "for x in cur:\n",
    "    print(x)"
   ]
  },
  {
   "cell_type": "markdown",
   "metadata": {},
   "source": [
    "### Proporcione el código para consultar los nombres de los droids."
   ]
  },
  {
   "cell_type": "code",
   "execution_count": 17,
   "metadata": {},
   "outputs": [
    {
     "name": "stdout",
     "output_type": "stream",
     "text": [
      "('C3PO',)\n"
     ]
    }
   ],
   "source": [
    "query4 = \"SELECT name FROM coworkers where title='Protocol Droid' ;\"\n",
    "cur.execute(query4)\n",
    "for x in cur:\n",
    "    print(x)"
   ]
  }
 ],
 "metadata": {
  "kernelspec": {
   "display_name": "Python 3",
   "language": "python",
   "name": "python3"
  },
  "language_info": {
   "codemirror_mode": {
    "name": "ipython",
    "version": 3
   },
   "file_extension": ".py",
   "mimetype": "text/x-python",
   "name": "python",
   "nbconvert_exporter": "python",
   "pygments_lexer": "ipython3",
   "version": "3.7.4"
  }
 },
 "nbformat": 4,
 "nbformat_minor": 4
}
