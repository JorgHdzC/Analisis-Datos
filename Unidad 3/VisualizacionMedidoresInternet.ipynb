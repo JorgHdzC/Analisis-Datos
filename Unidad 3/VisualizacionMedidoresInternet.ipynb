{
 "cells": [
  {
   "cell_type": "markdown",
   "metadata": {},
   "source": [
    "![](tec.png)\n",
    "\n",
    "\n",
    "    \n",
    "## **Análisis de Datos Masivos**\n",
    "## Visualización de medidores de Internet\n",
    "## **Nombre del docente**\n",
    "### José Gabriel Rodriguez Rivas\n",
    "## **Nombre del alumno**\n",
    "### Najib Alejandro Loera Rodriguez"
   ]
  },
  {
   "cell_type": "markdown",
   "metadata": {},
   "source": [
    "\n",
    "## Objetivos\n",
    "\n",
    "#### **Parte 1: Limpieza y análisis de datos**\n",
    "\n",
    "#### **Parte 2: Visualización de datos**"
   ]
  },
  {
   "cell_type": "markdown",
   "metadata": {},
   "source": [
    "### Parte 1: Limpieza y análisis de datos\n",
    "\n",
    "Se dice a veces que quienes practican el aprendizaje automático dedican el 80 % de su tiempo a la limpieza de datos. Si bien esta afirmación es probablemente una exageración, es verdad que la limpieza de datos es una tarea fundamental y necesaria para garantizar el éxito de un proyecto de aprendizaje automático. Como en muchas otras líneas de trabajo, se aplica la ley «basura que entra, basura que sale». Simplemente, no es posible realizar un análisis significativo de datos en datos sucios."
   ]
  },
  {
   "cell_type": "markdown",
   "metadata": {},
   "source": [
    "### Paso 1: Limpieza de datos"
   ]
  },
  {
   "cell_type": "code",
   "execution_count": 1,
   "metadata": {},
   "outputs": [],
   "source": [
    "# importar \n",
    "import pandas as pd\n",
    "import numpy as np"
   ]
  },
  {
   "cell_type": "code",
   "execution_count": 2,
   "metadata": {},
   "outputs": [
    {
     "data": {
      "text/html": [
       "<div>\n",
       "<style scoped>\n",
       "    .dataframe tbody tr th:only-of-type {\n",
       "        vertical-align: middle;\n",
       "    }\n",
       "\n",
       "    .dataframe tbody tr th {\n",
       "        vertical-align: top;\n",
       "    }\n",
       "\n",
       "    .dataframe thead th {\n",
       "        text-align: right;\n",
       "    }\n",
       "</style>\n",
       "<table border=\"1\" class=\"dataframe\">\n",
       "  <thead>\n",
       "    <tr style=\"text-align: right;\">\n",
       "      <th></th>\n",
       "      <th>Unnamed: 0</th>\n",
       "      <th>Ping (ms)</th>\n",
       "      <th>Download (Mbit/s)</th>\n",
       "      <th>Upload (Mbit/s)</th>\n",
       "      <th>Date</th>\n",
       "      <th>Time</th>\n",
       "    </tr>\n",
       "  </thead>\n",
       "  <tbody>\n",
       "    <tr>\n",
       "      <td>0</td>\n",
       "      <td>0</td>\n",
       "      <td>26.992</td>\n",
       "      <td>91.80</td>\n",
       "      <td>14.31</td>\n",
       "      <td>2016-11-24</td>\n",
       "      <td>13:36:25</td>\n",
       "    </tr>\n",
       "    <tr>\n",
       "      <td>1</td>\n",
       "      <td>1</td>\n",
       "      <td>24.532</td>\n",
       "      <td>88.19</td>\n",
       "      <td>14.12</td>\n",
       "      <td>2016-11-24</td>\n",
       "      <td>13:36:55</td>\n",
       "    </tr>\n",
       "    <tr>\n",
       "      <td>2</td>\n",
       "      <td>2</td>\n",
       "      <td>20.225</td>\n",
       "      <td>59.86</td>\n",
       "      <td>14.11</td>\n",
       "      <td>2016-11-24</td>\n",
       "      <td>13:37:25</td>\n",
       "    </tr>\n",
       "  </tbody>\n",
       "</table>\n",
       "</div>"
      ],
      "text/plain": [
       "   Unnamed: 0  Ping (ms)  Download (Mbit/s)  Upload (Mbit/s)        Date  \\\n",
       "0           0     26.992              91.80            14.31  2016-11-24   \n",
       "1           1     24.532              88.19            14.12  2016-11-24   \n",
       "2           2     20.225              59.86            14.11  2016-11-24   \n",
       "\n",
       "       Time  \n",
       "0  13:36:25  \n",
       "1  13:36:55  \n",
       "2  13:37:25  "
      ]
     },
     "execution_count": 2,
     "metadata": {},
     "output_type": "execute_result"
    }
   ],
   "source": [
    "# Code Cell 2\n",
    "# Import data from csv file\n",
    "df_compact = pd.read_csv('rpi_data_compact2.csv')\n",
    "\n",
    "df_compact.head(3)"
   ]
  },
  {
   "cell_type": "code",
   "execution_count": 3,
   "metadata": {},
   "outputs": [
    {
     "data": {
      "text/html": [
       "<div>\n",
       "<style scoped>\n",
       "    .dataframe tbody tr th:only-of-type {\n",
       "        vertical-align: middle;\n",
       "    }\n",
       "\n",
       "    .dataframe tbody tr th {\n",
       "        vertical-align: top;\n",
       "    }\n",
       "\n",
       "    .dataframe thead th {\n",
       "        text-align: right;\n",
       "    }\n",
       "</style>\n",
       "<table border=\"1\" class=\"dataframe\">\n",
       "  <thead>\n",
       "    <tr style=\"text-align: right;\">\n",
       "      <th></th>\n",
       "      <th>Unnamed: 0</th>\n",
       "      <th>Ping (ms)</th>\n",
       "      <th>Download (Mbit/s)</th>\n",
       "      <th>Upload (Mbit/s)</th>\n",
       "      <th>Date</th>\n",
       "      <th>Time</th>\n",
       "    </tr>\n",
       "  </thead>\n",
       "  <tbody>\n",
       "    <tr>\n",
       "      <td>0</td>\n",
       "      <td>0</td>\n",
       "      <td>26.992</td>\n",
       "      <td>91.80</td>\n",
       "      <td>14.31</td>\n",
       "      <td>2016-11-24</td>\n",
       "      <td>13:36:25</td>\n",
       "    </tr>\n",
       "    <tr>\n",
       "      <td>1</td>\n",
       "      <td>1</td>\n",
       "      <td>24.532</td>\n",
       "      <td>88.19</td>\n",
       "      <td>14.12</td>\n",
       "      <td>2016-11-24</td>\n",
       "      <td>13:36:55</td>\n",
       "    </tr>\n",
       "    <tr>\n",
       "      <td>2</td>\n",
       "      <td>2</td>\n",
       "      <td>20.225</td>\n",
       "      <td>59.86</td>\n",
       "      <td>14.11</td>\n",
       "      <td>2016-11-24</td>\n",
       "      <td>13:37:25</td>\n",
       "    </tr>\n",
       "    <tr>\n",
       "      <td>3</td>\n",
       "      <td>3</td>\n",
       "      <td>19.332</td>\n",
       "      <td>91.81</td>\n",
       "      <td>14.22</td>\n",
       "      <td>2016-11-24</td>\n",
       "      <td>13:37:57</td>\n",
       "    </tr>\n",
       "    <tr>\n",
       "      <td>4</td>\n",
       "      <td>4</td>\n",
       "      <td>22.494</td>\n",
       "      <td>92.05</td>\n",
       "      <td>14.08</td>\n",
       "      <td>2016-11-24</td>\n",
       "      <td>13:38:27</td>\n",
       "    </tr>\n",
       "  </tbody>\n",
       "</table>\n",
       "</div>"
      ],
      "text/plain": [
       "   Unnamed: 0  Ping (ms)  Download (Mbit/s)  Upload (Mbit/s)        Date  \\\n",
       "0           0     26.992              91.80            14.31  2016-11-24   \n",
       "1           1     24.532              88.19            14.12  2016-11-24   \n",
       "2           2     20.225              59.86            14.11  2016-11-24   \n",
       "3           3     19.332              91.81            14.22  2016-11-24   \n",
       "4           4     22.494              92.05            14.08  2016-11-24   \n",
       "\n",
       "       Time  \n",
       "0  13:36:25  \n",
       "1  13:36:55  \n",
       "2  13:37:25  \n",
       "3  13:37:57  \n",
       "4  13:38:27  "
      ]
     },
     "execution_count": 3,
     "metadata": {},
     "output_type": "execute_result"
    }
   ],
   "source": [
    "df_compact.head(5)"
   ]
  },
  {
   "cell_type": "code",
   "execution_count": 4,
   "metadata": {},
   "outputs": [
    {
     "name": "stdout",
     "output_type": "stream",
     "text": [
      "<class 'pandas.core.frame.DataFrame'>\n"
     ]
    },
    {
     "data": {
      "text/html": [
       "<div>\n",
       "<style scoped>\n",
       "    .dataframe tbody tr th:only-of-type {\n",
       "        vertical-align: middle;\n",
       "    }\n",
       "\n",
       "    .dataframe tbody tr th {\n",
       "        vertical-align: top;\n",
       "    }\n",
       "\n",
       "    .dataframe thead th {\n",
       "        text-align: right;\n",
       "    }\n",
       "</style>\n",
       "<table border=\"1\" class=\"dataframe\">\n",
       "  <thead>\n",
       "    <tr style=\"text-align: right;\">\n",
       "      <th></th>\n",
       "      <th>Unnamed: 0</th>\n",
       "      <th>Ping (ms)</th>\n",
       "      <th>Download (Mbit/s)</th>\n",
       "      <th>Upload (Mbit/s)</th>\n",
       "      <th>Date</th>\n",
       "      <th>Time</th>\n",
       "    </tr>\n",
       "  </thead>\n",
       "  <tbody>\n",
       "    <tr>\n",
       "      <td>675</td>\n",
       "      <td>False</td>\n",
       "      <td>False</td>\n",
       "      <td>False</td>\n",
       "      <td>True</td>\n",
       "      <td>True</td>\n",
       "      <td>True</td>\n",
       "    </tr>\n",
       "    <tr>\n",
       "      <td>676</td>\n",
       "      <td>False</td>\n",
       "      <td>False</td>\n",
       "      <td>False</td>\n",
       "      <td>True</td>\n",
       "      <td>True</td>\n",
       "      <td>True</td>\n",
       "    </tr>\n",
       "    <tr>\n",
       "      <td>677</td>\n",
       "      <td>False</td>\n",
       "      <td>False</td>\n",
       "      <td>False</td>\n",
       "      <td>True</td>\n",
       "      <td>True</td>\n",
       "      <td>True</td>\n",
       "    </tr>\n",
       "    <tr>\n",
       "      <td>678</td>\n",
       "      <td>False</td>\n",
       "      <td>False</td>\n",
       "      <td>False</td>\n",
       "      <td>True</td>\n",
       "      <td>True</td>\n",
       "      <td>True</td>\n",
       "    </tr>\n",
       "    <tr>\n",
       "      <td>679</td>\n",
       "      <td>False</td>\n",
       "      <td>False</td>\n",
       "      <td>False</td>\n",
       "      <td>False</td>\n",
       "      <td>False</td>\n",
       "      <td>True</td>\n",
       "    </tr>\n",
       "  </tbody>\n",
       "</table>\n",
       "</div>"
      ],
      "text/plain": [
       "     Unnamed: 0  Ping (ms)  Download (Mbit/s)  Upload (Mbit/s)   Date  Time\n",
       "675       False      False              False             True   True  True\n",
       "676       False      False              False             True   True  True\n",
       "677       False      False              False             True   True  True\n",
       "678       False      False              False             True   True  True\n",
       "679       False      False              False            False  False  True"
      ]
     },
     "execution_count": 4,
     "metadata": {},
     "output_type": "execute_result"
    }
   ],
   "source": [
    "# Nos da true o false en los valores nulos \n",
    "NaNs_in_df = df_compact.isnull()\n",
    "print(type(NaNs_in_df))\n",
    "NaNs_in_df.tail()"
   ]
  },
  {
   "cell_type": "code",
   "execution_count": 5,
   "metadata": {},
   "outputs": [
    {
     "name": "stdout",
     "output_type": "stream",
     "text": [
      "<class 'pandas.core.series.Series'>\n"
     ]
    },
    {
     "data": {
      "text/plain": [
       "Unnamed: 0           0\n",
       "Ping (ms)            1\n",
       "Download (Mbit/s)    1\n",
       "Upload (Mbit/s)      7\n",
       "Date                 7\n",
       "dtype: int64"
      ]
     },
     "execution_count": 5,
     "metadata": {},
     "output_type": "execute_result"
    }
   ],
   "source": [
    "\n",
    "\n",
    "# Code Cell 5\n",
    "NaNs_per_column = NaNs_in_df.sum()\n",
    "print(type(NaNs_per_column))\n",
    "NaNs_per_column.head()\n",
    "\n"
   ]
  },
  {
   "cell_type": "code",
   "execution_count": 6,
   "metadata": {},
   "outputs": [
    {
     "data": {
      "text/plain": [
       "24"
      ]
     },
     "execution_count": 6,
     "metadata": {},
     "output_type": "execute_result"
    }
   ],
   "source": [
    "# Calcula la suma de los valores nulos\n",
    "NaNs_total = NaNs_per_column.sum()\n",
    "NaNs_total"
   ]
  },
  {
   "cell_type": "code",
   "execution_count": 7,
   "metadata": {},
   "outputs": [
    {
     "data": {
      "text/plain": [
       "24"
      ]
     },
     "execution_count": 7,
     "metadata": {},
     "output_type": "execute_result"
    }
   ],
   "source": [
    "# otra forma de sumar valores nulos es la siguiente\n",
    "df_compact.isnull().sum().sum()"
   ]
  },
  {
   "cell_type": "code",
   "execution_count": 8,
   "metadata": {},
   "outputs": [
    {
     "name": "stdout",
     "output_type": "stream",
     "text": [
      "The DataFrame contains : 24 NaNs, equals to 0.5882 of the measurements\n"
     ]
    }
   ],
   "source": [
    "# Code Cell 8\n",
    "NaNs_pct = np.round(df_compact.isnull().sum().sum()/float(len(df_compact)*len(df_compact.columns))*100, decimals = 4)\n",
    "print('The DataFrame contains : {} NaNs, equals to {} of the measurements'.format(NaNs_total, NaNs_pct))"
   ]
  },
  {
   "cell_type": "code",
   "execution_count": 9,
   "metadata": {},
   "outputs": [],
   "source": [
    "# Code Cell 9\n",
    "# Elimina los datos nulos y lo agregasmo a un nuevo data frame\n",
    "df_compact_clean = df_compact.dropna()"
   ]
  },
  {
   "cell_type": "code",
   "execution_count": 10,
   "metadata": {},
   "outputs": [
    {
     "name": "stdout",
     "output_type": "stream",
     "text": [
      "680\n"
     ]
    },
    {
     "data": {
      "text/plain": [
       "672"
      ]
     },
     "execution_count": 10,
     "metadata": {},
     "output_type": "execute_result"
    }
   ],
   "source": [
    "print(len(df_compact))\n",
    "len(df_compact_clean)"
   ]
  },
  {
   "cell_type": "markdown",
   "metadata": {},
   "source": [
    "Compare la longitud de la Estructura de datos antes y después de utilizar dropna. ¿Observa algún valor impar? ¿Por qué?"
   ]
  },
  {
   "cell_type": "markdown",
   "metadata": {},
   "source": [
    "**Respuesta:**  No , por que se han borrado 8 filas y en cada una de esas filas estaban columnas con informacion y ademas de que tenian Nan teniendo un total de 24 puesto que se eliminaronlas filas que contenian esos datos"
   ]
  },
  {
   "cell_type": "markdown",
   "metadata": {},
   "source": [
    "### d) Cambie el formato de los valores."
   ]
  },
  {
   "cell_type": "code",
   "execution_count": 11,
   "metadata": {},
   "outputs": [
    {
     "data": {
      "text/plain": [
       "Unnamed: 0             int64\n",
       "Ping (ms)            float64\n",
       "Download (Mbit/s)    float64\n",
       "Upload (Mbit/s)      float64\n",
       "Date                  object\n",
       "Time                  object\n",
       "dtype: object"
      ]
     },
     "execution_count": 11,
     "metadata": {},
     "output_type": "execute_result"
    }
   ],
   "source": [
    "# Code Cell 11\n",
    "# Ping and Download are not floats\n",
    "df_compact.dtypes"
   ]
  },
  {
   "cell_type": "code",
   "execution_count": 12,
   "metadata": {},
   "outputs": [
    {
     "name": "stdout",
     "output_type": "stream",
     "text": [
      "10.56 <class 'str'> 10.56 <class 'float'>\n"
     ]
    }
   ],
   "source": [
    "# Code Cell 12\n",
    "str_val = '10.56'\n",
    "float_val = float(str_val)\n",
    "print(str_val, type(str_val), float_val, type(float_val))"
   ]
  },
  {
   "cell_type": "code",
   "execution_count": 13,
   "metadata": {},
   "outputs": [
    {
     "name": "stderr",
     "output_type": "stream",
     "text": [
      "C:\\Users\\Blue\\Anaconda3\\lib\\site-packages\\ipykernel_launcher.py:1: SettingWithCopyWarning: \n",
      "A value is trying to be set on a copy of a slice from a DataFrame.\n",
      "Try using .loc[row_indexer,col_indexer] = value instead\n",
      "\n",
      "See the caveats in the documentation: http://pandas.pydata.org/pandas-docs/stable/user_guide/indexing.html#returning-a-view-versus-a-copy\n",
      "  \"\"\"Entry point for launching an IPython kernel.\n",
      "C:\\Users\\Blue\\Anaconda3\\lib\\site-packages\\ipykernel_launcher.py:2: SettingWithCopyWarning: \n",
      "A value is trying to be set on a copy of a slice from a DataFrame.\n",
      "Try using .loc[row_indexer,col_indexer] = value instead\n",
      "\n",
      "See the caveats in the documentation: http://pandas.pydata.org/pandas-docs/stable/user_guide/indexing.html#returning-a-view-versus-a-copy\n",
      "  \n"
     ]
    }
   ],
   "source": [
    "df_compact_clean['Ping (ms)_float'] = df_compact_clean['Ping (ms)'].apply(lambda val: float(val))\n",
    "df_compact_clean['Download (Mbit/s)_float'] = df_compact_clean['Download (Mbit/s)'].apply(lambda val: float(val))"
   ]
  },
  {
   "cell_type": "code",
   "execution_count": 14,
   "metadata": {},
   "outputs": [
    {
     "data": {
      "text/plain": [
       "Unnamed: 0                   int64\n",
       "Ping (ms)                  float64\n",
       "Download (Mbit/s)          float64\n",
       "Upload (Mbit/s)            float64\n",
       "Date                        object\n",
       "Time                        object\n",
       "Ping (ms)_float            float64\n",
       "Download (Mbit/s)_float    float64\n",
       "dtype: object"
      ]
     },
     "execution_count": 14,
     "metadata": {},
     "output_type": "execute_result"
    }
   ],
   "source": [
    "df_compact_clean.dtypes"
   ]
  },
  {
   "cell_type": "code",
   "execution_count": 15,
   "metadata": {},
   "outputs": [
    {
     "name": "stderr",
     "output_type": "stream",
     "text": [
      "C:\\Users\\Blue\\Anaconda3\\lib\\site-packages\\pandas\\core\\frame.py:4102: SettingWithCopyWarning: \n",
      "A value is trying to be set on a copy of a slice from a DataFrame\n",
      "\n",
      "See the caveats in the documentation: http://pandas.pydata.org/pandas-docs/stable/user_guide/indexing.html#returning-a-view-versus-a-copy\n",
      "  errors=errors,\n"
     ]
    }
   ],
   "source": [
    "df_compact_clean.drop(['Ping (ms)','Download (Mbit/s)'], axis = 1 , inplace = True)"
   ]
  },
  {
   "cell_type": "code",
   "execution_count": 16,
   "metadata": {},
   "outputs": [
    {
     "data": {
      "text/html": [
       "<div>\n",
       "<style scoped>\n",
       "    .dataframe tbody tr th:only-of-type {\n",
       "        vertical-align: middle;\n",
       "    }\n",
       "\n",
       "    .dataframe tbody tr th {\n",
       "        vertical-align: top;\n",
       "    }\n",
       "\n",
       "    .dataframe thead th {\n",
       "        text-align: right;\n",
       "    }\n",
       "</style>\n",
       "<table border=\"1\" class=\"dataframe\">\n",
       "  <thead>\n",
       "    <tr style=\"text-align: right;\">\n",
       "      <th></th>\n",
       "      <th>Unnamed: 0</th>\n",
       "      <th>Upload (Mbit/s)</th>\n",
       "      <th>Date</th>\n",
       "      <th>Time</th>\n",
       "      <th>Ping (ms)_float</th>\n",
       "      <th>Download (Mbit/s)_float</th>\n",
       "    </tr>\n",
       "  </thead>\n",
       "  <tbody>\n",
       "    <tr>\n",
       "      <td>0</td>\n",
       "      <td>0</td>\n",
       "      <td>14.31</td>\n",
       "      <td>2016-11-24</td>\n",
       "      <td>13:36:25</td>\n",
       "      <td>26.992</td>\n",
       "      <td>91.80</td>\n",
       "    </tr>\n",
       "    <tr>\n",
       "      <td>1</td>\n",
       "      <td>1</td>\n",
       "      <td>14.12</td>\n",
       "      <td>2016-11-24</td>\n",
       "      <td>13:36:55</td>\n",
       "      <td>24.532</td>\n",
       "      <td>88.19</td>\n",
       "    </tr>\n",
       "    <tr>\n",
       "      <td>2</td>\n",
       "      <td>2</td>\n",
       "      <td>14.11</td>\n",
       "      <td>2016-11-24</td>\n",
       "      <td>13:37:25</td>\n",
       "      <td>20.225</td>\n",
       "      <td>59.86</td>\n",
       "    </tr>\n",
       "    <tr>\n",
       "      <td>3</td>\n",
       "      <td>3</td>\n",
       "      <td>14.22</td>\n",
       "      <td>2016-11-24</td>\n",
       "      <td>13:37:57</td>\n",
       "      <td>19.332</td>\n",
       "      <td>91.81</td>\n",
       "    </tr>\n",
       "    <tr>\n",
       "      <td>4</td>\n",
       "      <td>4</td>\n",
       "      <td>14.08</td>\n",
       "      <td>2016-11-24</td>\n",
       "      <td>13:38:27</td>\n",
       "      <td>22.494</td>\n",
       "      <td>92.05</td>\n",
       "    </tr>\n",
       "  </tbody>\n",
       "</table>\n",
       "</div>"
      ],
      "text/plain": [
       "   Unnamed: 0  Upload (Mbit/s)        Date      Time  Ping (ms)_float  \\\n",
       "0           0            14.31  2016-11-24  13:36:25           26.992   \n",
       "1           1            14.12  2016-11-24  13:36:55           24.532   \n",
       "2           2            14.11  2016-11-24  13:37:25           20.225   \n",
       "3           3            14.22  2016-11-24  13:37:57           19.332   \n",
       "4           4            14.08  2016-11-24  13:38:27           22.494   \n",
       "\n",
       "   Download (Mbit/s)_float  \n",
       "0                    91.80  \n",
       "1                    88.19  \n",
       "2                    59.86  \n",
       "3                    91.81  \n",
       "4                    92.05  "
      ]
     },
     "execution_count": 16,
     "metadata": {},
     "output_type": "execute_result"
    }
   ],
   "source": [
    "df_compact_clean.head()"
   ]
  },
  {
   "cell_type": "code",
   "execution_count": 17,
   "metadata": {},
   "outputs": [],
   "source": [
    "df_compact_clean.drop(['Unnamed: 0'], axis = 1 , inplace = True)"
   ]
  },
  {
   "cell_type": "code",
   "execution_count": 18,
   "metadata": {},
   "outputs": [
    {
     "data": {
      "text/html": [
       "<div>\n",
       "<style scoped>\n",
       "    .dataframe tbody tr th:only-of-type {\n",
       "        vertical-align: middle;\n",
       "    }\n",
       "\n",
       "    .dataframe tbody tr th {\n",
       "        vertical-align: top;\n",
       "    }\n",
       "\n",
       "    .dataframe thead th {\n",
       "        text-align: right;\n",
       "    }\n",
       "</style>\n",
       "<table border=\"1\" class=\"dataframe\">\n",
       "  <thead>\n",
       "    <tr style=\"text-align: right;\">\n",
       "      <th></th>\n",
       "      <th>Upload (Mbit/s)</th>\n",
       "      <th>Date</th>\n",
       "      <th>Time</th>\n",
       "      <th>Ping (ms)_float</th>\n",
       "      <th>Download (Mbit/s)_float</th>\n",
       "    </tr>\n",
       "  </thead>\n",
       "  <tbody>\n",
       "    <tr>\n",
       "      <td>0</td>\n",
       "      <td>14.31</td>\n",
       "      <td>2016-11-24</td>\n",
       "      <td>13:36:25</td>\n",
       "      <td>26.992</td>\n",
       "      <td>91.80</td>\n",
       "    </tr>\n",
       "    <tr>\n",
       "      <td>1</td>\n",
       "      <td>14.12</td>\n",
       "      <td>2016-11-24</td>\n",
       "      <td>13:36:55</td>\n",
       "      <td>24.532</td>\n",
       "      <td>88.19</td>\n",
       "    </tr>\n",
       "    <tr>\n",
       "      <td>2</td>\n",
       "      <td>14.11</td>\n",
       "      <td>2016-11-24</td>\n",
       "      <td>13:37:25</td>\n",
       "      <td>20.225</td>\n",
       "      <td>59.86</td>\n",
       "    </tr>\n",
       "    <tr>\n",
       "      <td>3</td>\n",
       "      <td>14.22</td>\n",
       "      <td>2016-11-24</td>\n",
       "      <td>13:37:57</td>\n",
       "      <td>19.332</td>\n",
       "      <td>91.81</td>\n",
       "    </tr>\n",
       "    <tr>\n",
       "      <td>4</td>\n",
       "      <td>14.08</td>\n",
       "      <td>2016-11-24</td>\n",
       "      <td>13:38:27</td>\n",
       "      <td>22.494</td>\n",
       "      <td>92.05</td>\n",
       "    </tr>\n",
       "  </tbody>\n",
       "</table>\n",
       "</div>"
      ],
      "text/plain": [
       "   Upload (Mbit/s)        Date      Time  Ping (ms)_float  \\\n",
       "0            14.31  2016-11-24  13:36:25           26.992   \n",
       "1            14.12  2016-11-24  13:36:55           24.532   \n",
       "2            14.11  2016-11-24  13:37:25           20.225   \n",
       "3            14.22  2016-11-24  13:37:57           19.332   \n",
       "4            14.08  2016-11-24  13:38:27           22.494   \n",
       "\n",
       "   Download (Mbit/s)_float  \n",
       "0                    91.80  \n",
       "1                    88.19  \n",
       "2                    59.86  \n",
       "3                    91.81  \n",
       "4                    92.05  "
      ]
     },
     "execution_count": 18,
     "metadata": {},
     "output_type": "execute_result"
    }
   ],
   "source": [
    "df_compact_clean.head()"
   ]
  },
  {
   "cell_type": "code",
   "execution_count": 19,
   "metadata": {},
   "outputs": [
    {
     "name": "stderr",
     "output_type": "stream",
     "text": [
      "C:\\Users\\Blue\\Anaconda3\\lib\\site-packages\\pandas\\core\\frame.py:4223: SettingWithCopyWarning: \n",
      "A value is trying to be set on a copy of a slice from a DataFrame\n",
      "\n",
      "See the caveats in the documentation: http://pandas.pydata.org/pandas-docs/stable/user_guide/indexing.html#returning-a-view-versus-a-copy\n",
      "  return super().rename(**kwargs)\n"
     ]
    }
   ],
   "source": [
    "columnas = {'Ping (ms)_float': 'Ping(ms)', 'Download (Mbit/s)_float':'Download (Mbit/s)'}\n",
    "df_compact_clean.rename(columns=columnas, inplace= True)"
   ]
  },
  {
   "cell_type": "code",
   "execution_count": 20,
   "metadata": {},
   "outputs": [],
   "source": [
    "# Code Cell 17\n",
    "df_compact_clean.reindex(columns = ['Date', 'Time', 'Ping (ms)', 'Download (Mbit/s)', 'Upload (Mbit/s)']);"
   ]
  },
  {
   "cell_type": "code",
   "execution_count": 21,
   "metadata": {},
   "outputs": [
    {
     "data": {
      "text/html": [
       "<div>\n",
       "<style scoped>\n",
       "    .dataframe tbody tr th:only-of-type {\n",
       "        vertical-align: middle;\n",
       "    }\n",
       "\n",
       "    .dataframe tbody tr th {\n",
       "        vertical-align: top;\n",
       "    }\n",
       "\n",
       "    .dataframe thead th {\n",
       "        text-align: right;\n",
       "    }\n",
       "</style>\n",
       "<table border=\"1\" class=\"dataframe\">\n",
       "  <thead>\n",
       "    <tr style=\"text-align: right;\">\n",
       "      <th></th>\n",
       "      <th>Upload (Mbit/s)</th>\n",
       "      <th>Date</th>\n",
       "      <th>Time</th>\n",
       "      <th>Ping(ms)</th>\n",
       "      <th>Download (Mbit/s)</th>\n",
       "    </tr>\n",
       "  </thead>\n",
       "  <tbody>\n",
       "    <tr>\n",
       "      <td>0</td>\n",
       "      <td>14.31</td>\n",
       "      <td>2016-11-24</td>\n",
       "      <td>13:36:25</td>\n",
       "      <td>26.992</td>\n",
       "      <td>91.80</td>\n",
       "    </tr>\n",
       "    <tr>\n",
       "      <td>1</td>\n",
       "      <td>14.12</td>\n",
       "      <td>2016-11-24</td>\n",
       "      <td>13:36:55</td>\n",
       "      <td>24.532</td>\n",
       "      <td>88.19</td>\n",
       "    </tr>\n",
       "    <tr>\n",
       "      <td>2</td>\n",
       "      <td>14.11</td>\n",
       "      <td>2016-11-24</td>\n",
       "      <td>13:37:25</td>\n",
       "      <td>20.225</td>\n",
       "      <td>59.86</td>\n",
       "    </tr>\n",
       "    <tr>\n",
       "      <td>3</td>\n",
       "      <td>14.22</td>\n",
       "      <td>2016-11-24</td>\n",
       "      <td>13:37:57</td>\n",
       "      <td>19.332</td>\n",
       "      <td>91.81</td>\n",
       "    </tr>\n",
       "    <tr>\n",
       "      <td>4</td>\n",
       "      <td>14.08</td>\n",
       "      <td>2016-11-24</td>\n",
       "      <td>13:38:27</td>\n",
       "      <td>22.494</td>\n",
       "      <td>92.05</td>\n",
       "    </tr>\n",
       "  </tbody>\n",
       "</table>\n",
       "</div>"
      ],
      "text/plain": [
       "   Upload (Mbit/s)        Date      Time  Ping(ms)  Download (Mbit/s)\n",
       "0            14.31  2016-11-24  13:36:25    26.992              91.80\n",
       "1            14.12  2016-11-24  13:36:55    24.532              88.19\n",
       "2            14.11  2016-11-24  13:37:25    20.225              59.86\n",
       "3            14.22  2016-11-24  13:37:57    19.332              91.81\n",
       "4            14.08  2016-11-24  13:38:27    22.494              92.05"
      ]
     },
     "execution_count": 21,
     "metadata": {},
     "output_type": "execute_result"
    }
   ],
   "source": [
    "df_compact_clean.head()"
   ]
  },
  {
   "cell_type": "code",
   "execution_count": 22,
   "metadata": {},
   "outputs": [],
   "source": [
    "# Guardar el nuevo data frame en un csv\n",
    "\n",
    "df_compact_clean.to_csv('rpi_data_processed.csv', index=False)\n",
    "df_clean = df_compact_clean"
   ]
  },
  {
   "cell_type": "code",
   "execution_count": 23,
   "metadata": {},
   "outputs": [
    {
     "data": {
      "text/html": [
       "<div>\n",
       "<style scoped>\n",
       "    .dataframe tbody tr th:only-of-type {\n",
       "        vertical-align: middle;\n",
       "    }\n",
       "\n",
       "    .dataframe tbody tr th {\n",
       "        vertical-align: top;\n",
       "    }\n",
       "\n",
       "    .dataframe thead th {\n",
       "        text-align: right;\n",
       "    }\n",
       "</style>\n",
       "<table border=\"1\" class=\"dataframe\">\n",
       "  <thead>\n",
       "    <tr style=\"text-align: right;\">\n",
       "      <th></th>\n",
       "      <th>Upload (Mbit/s)</th>\n",
       "      <th>Date</th>\n",
       "      <th>Time</th>\n",
       "      <th>Ping(ms)</th>\n",
       "      <th>Download (Mbit/s)</th>\n",
       "    </tr>\n",
       "  </thead>\n",
       "  <tbody>\n",
       "    <tr>\n",
       "      <td>0</td>\n",
       "      <td>14.31</td>\n",
       "      <td>2016-11-24</td>\n",
       "      <td>13:36:25</td>\n",
       "      <td>26.992</td>\n",
       "      <td>91.80</td>\n",
       "    </tr>\n",
       "    <tr>\n",
       "      <td>1</td>\n",
       "      <td>14.12</td>\n",
       "      <td>2016-11-24</td>\n",
       "      <td>13:36:55</td>\n",
       "      <td>24.532</td>\n",
       "      <td>88.19</td>\n",
       "    </tr>\n",
       "    <tr>\n",
       "      <td>2</td>\n",
       "      <td>14.11</td>\n",
       "      <td>2016-11-24</td>\n",
       "      <td>13:37:25</td>\n",
       "      <td>20.225</td>\n",
       "      <td>59.86</td>\n",
       "    </tr>\n",
       "    <tr>\n",
       "      <td>3</td>\n",
       "      <td>14.22</td>\n",
       "      <td>2016-11-24</td>\n",
       "      <td>13:37:57</td>\n",
       "      <td>19.332</td>\n",
       "      <td>91.81</td>\n",
       "    </tr>\n",
       "    <tr>\n",
       "      <td>4</td>\n",
       "      <td>14.08</td>\n",
       "      <td>2016-11-24</td>\n",
       "      <td>13:38:27</td>\n",
       "      <td>22.494</td>\n",
       "      <td>92.05</td>\n",
       "    </tr>\n",
       "  </tbody>\n",
       "</table>\n",
       "</div>"
      ],
      "text/plain": [
       "   Upload (Mbit/s)        Date      Time  Ping(ms)  Download (Mbit/s)\n",
       "0            14.31  2016-11-24  13:36:25    26.992              91.80\n",
       "1            14.12  2016-11-24  13:36:55    24.532              88.19\n",
       "2            14.11  2016-11-24  13:37:25    20.225              59.86\n",
       "3            14.22  2016-11-24  13:37:57    19.332              91.81\n",
       "4            14.08  2016-11-24  13:38:27    22.494              92.05"
      ]
     },
     "execution_count": 23,
     "metadata": {},
     "output_type": "execute_result"
    }
   ],
   "source": [
    "df_clean.head()"
   ]
  },
  {
   "cell_type": "markdown",
   "metadata": {},
   "source": [
    "\n",
    "#### Paso 2: Estadísticas básicas\n",
    "\n",
    "Los nuevos datos requieren no solo limpieza, sino también tiempo para familiarizarse con ellos. Cuando inicia un proyecto de análisis de datos, vale la pena invertir en explorar y calcular algunas propiedades estadísticas básicas de los datos. Esto implica calcular promedios, desviaciones estándar y correlaciones.\n"
   ]
  },
  {
   "cell_type": "markdown",
   "metadata": {},
   "source": [
    "**Calcule el promedio y la desviación estándar con Pandas.**"
   ]
  },
  {
   "cell_type": "code",
   "execution_count": 26,
   "metadata": {},
   "outputs": [
    {
     "name": "stdout",
     "output_type": "stream",
     "text": [
      "Average ping time: 21.113875000000007 ± 5.164907779028767 ms\n",
      "Average download speed: 90.45629464285713 ± 3.4633514246179895 Mbit/s\n",
      "Average upload speed: 13.69681547619048 ± 1.0810800645602712 Mbit/s\n"
     ]
    }
   ],
   "source": [
    "# Code Cell 19\n",
    "#Compute mean and std for all the columns of df_compact\n",
    "means = df_clean.mean()\n",
    "stands = df_clean.std()\n",
    "\n",
    "#Place mean and std for each column in a tuple\n",
    "stats_ping = (means['Ping(ms)'], stands['Ping(ms)'])\n",
    "stats_download = (means['Download (Mbit/s)'], stands['Download (Mbit/s)'])\n",
    "stats_upload = (means['Upload (Mbit/s)'], stands['Upload (Mbit/s)'])\n",
    "\n",
    "#Print the mean value ± the standard deviation, including measuring units\n",
    "print('Average ping time: {} ± {} ms'.format(*stats_ping))\n",
    "print('Average download speed: {} ± {} Mbit/s'.format(*stats_download))\n",
    "print('Average upload speed: {} ± {} Mbit/s'.format(*stats_upload))"
   ]
  },
  {
   "cell_type": "code",
   "execution_count": 27,
   "metadata": {},
   "outputs": [
    {
     "name": "stdout",
     "output_type": "stream",
     "text": [
      "Upload (Mbit/s)      13.696815\n",
      "Ping(ms)             21.113875\n",
      "Download (Mbit/s)    90.456295\n",
      "dtype: float64\n"
     ]
    },
    {
     "data": {
      "text/plain": [
       "21.113875000000007"
      ]
     },
     "execution_count": 27,
     "metadata": {},
     "output_type": "execute_result"
    }
   ],
   "source": [
    "\n",
    "\n",
    "# Code Cell 20\n",
    "means = df_clean.mean()\n",
    "print(means)\n",
    "means['Ping(ms)']\n",
    "\n"
   ]
  },
  {
   "cell_type": "code",
   "execution_count": 28,
   "metadata": {},
   "outputs": [
    {
     "name": "stdout",
     "output_type": "stream",
     "text": [
      "21.113875000000007\n",
      "21.113875000000007\n"
     ]
    }
   ],
   "source": [
    "\n",
    "\n",
    "# Code Cell 21\n",
    "df_clean['Ping(ms)'].values.sum()/len(df_clean)\n",
    "print(df_clean['Ping(ms)'].mean())\n",
    "print(df_clean.mean()['Ping(ms)'])\n",
    "\n"
   ]
  },
  {
   "cell_type": "code",
   "execution_count": 29,
   "metadata": {},
   "outputs": [
    {
     "data": {
      "text/plain": [
       "'2016-11-24'"
      ]
     },
     "execution_count": 29,
     "metadata": {},
     "output_type": "execute_result"
    }
   ],
   "source": [
    "# Code Cell 22\n",
    "df_clean['Date'][0]"
   ]
  },
  {
   "cell_type": "markdown",
   "metadata": {},
   "source": [
    "**Calcule la desviación mínima y máxima con Pandas.**"
   ]
  },
  {
   "cell_type": "code",
   "execution_count": 30,
   "metadata": {},
   "outputs": [
    {
     "name": "stdout",
     "output_type": "stream",
     "text": [
      "Min ping time: 16.167 ms. Max ping time: 76.528 ms\n",
      "Min download speed: 58.48 Mbit/s. Max download speed: 92.87 Mbit/s\n",
      "Min upload speed: 6.21 Mbit/s. Max upload speed: 14.55 Mbit/s\n"
     ]
    }
   ],
   "source": [
    "# Code Cell 23\n",
    "#Compute max and min for all the columns of df_compact\n",
    "mins = df_clean.min()\n",
    "maxs = df_clean.max()\n",
    "\n",
    "#Place mean and std for each column in a tuple\n",
    "mima_ping = (mins['Ping(ms)'], maxs['Ping(ms)'])\n",
    "mima_download = (mins['Download (Mbit/s)'], maxs['Download (Mbit/s)'])\n",
    "mima_upload = (mins['Upload (Mbit/s)'], maxs['Upload (Mbit/s)'])\n",
    "\n",
    "#Print the mean and max values, including measuring units\n",
    "print('Min ping time: {} ms. Max ping time: {} ms'.format(*mima_ping))\n",
    "print('Min download speed: {} Mbit/s. Max download speed: {} Mbit/s'.format(*mima_download))\n",
    "print('Min upload speed: {} Mbit/s. Max upload speed: {} Mbit/s'.format(*mima_upload))"
   ]
  },
  {
   "cell_type": "code",
   "execution_count": 31,
   "metadata": {},
   "outputs": [
    {
     "data": {
      "text/html": [
       "<div>\n",
       "<style scoped>\n",
       "    .dataframe tbody tr th:only-of-type {\n",
       "        vertical-align: middle;\n",
       "    }\n",
       "\n",
       "    .dataframe tbody tr th {\n",
       "        vertical-align: top;\n",
       "    }\n",
       "\n",
       "    .dataframe thead th {\n",
       "        text-align: right;\n",
       "    }\n",
       "</style>\n",
       "<table border=\"1\" class=\"dataframe\">\n",
       "  <thead>\n",
       "    <tr style=\"text-align: right;\">\n",
       "      <th></th>\n",
       "      <th>Upload (Mbit/s)</th>\n",
       "      <th>Ping(ms)</th>\n",
       "      <th>Download (Mbit/s)</th>\n",
       "    </tr>\n",
       "  </thead>\n",
       "  <tbody>\n",
       "    <tr>\n",
       "      <td>count</td>\n",
       "      <td>672.000000</td>\n",
       "      <td>672.000000</td>\n",
       "      <td>672.000000</td>\n",
       "    </tr>\n",
       "    <tr>\n",
       "      <td>mean</td>\n",
       "      <td>13.696815</td>\n",
       "      <td>21.113875</td>\n",
       "      <td>90.456295</td>\n",
       "    </tr>\n",
       "    <tr>\n",
       "      <td>std</td>\n",
       "      <td>1.081080</td>\n",
       "      <td>5.164908</td>\n",
       "      <td>3.463351</td>\n",
       "    </tr>\n",
       "    <tr>\n",
       "      <td>min</td>\n",
       "      <td>6.210000</td>\n",
       "      <td>16.167000</td>\n",
       "      <td>58.480000</td>\n",
       "    </tr>\n",
       "    <tr>\n",
       "      <td>25%</td>\n",
       "      <td>13.640000</td>\n",
       "      <td>19.113500</td>\n",
       "      <td>90.220000</td>\n",
       "    </tr>\n",
       "    <tr>\n",
       "      <td>50%</td>\n",
       "      <td>13.980000</td>\n",
       "      <td>20.320000</td>\n",
       "      <td>91.565000</td>\n",
       "    </tr>\n",
       "    <tr>\n",
       "      <td>75%</td>\n",
       "      <td>14.180000</td>\n",
       "      <td>21.837750</td>\n",
       "      <td>92.070000</td>\n",
       "    </tr>\n",
       "    <tr>\n",
       "      <td>max</td>\n",
       "      <td>14.550000</td>\n",
       "      <td>76.528000</td>\n",
       "      <td>92.870000</td>\n",
       "    </tr>\n",
       "  </tbody>\n",
       "</table>\n",
       "</div>"
      ],
      "text/plain": [
       "       Upload (Mbit/s)    Ping(ms)  Download (Mbit/s)\n",
       "count       672.000000  672.000000         672.000000\n",
       "mean         13.696815   21.113875          90.456295\n",
       "std           1.081080    5.164908           3.463351\n",
       "min           6.210000   16.167000          58.480000\n",
       "25%          13.640000   19.113500          90.220000\n",
       "50%          13.980000   20.320000          91.565000\n",
       "75%          14.180000   21.837750          92.070000\n",
       "max          14.550000   76.528000          92.870000"
      ]
     },
     "execution_count": 31,
     "metadata": {},
     "output_type": "execute_result"
    }
   ],
   "source": [
    "\n",
    "\n",
    "# Code Cell 24\n",
    "df_clean.describe()\n",
    "\n"
   ]
  },
  {
   "cell_type": "markdown",
   "metadata": {},
   "source": [
    "#### *Utilice argmin, argmax e iloc*\n",
    "\n",
    "Supongamos que quisiera tener un guión de computadora que envíe informes de estado por correo electrónico a su proveedor de Internet. Los informes deberían incluir la fecha y la hora correspondientes a la velocidad mínima de Internet. La información temporal le permite al proveedor de Internet identificar con precisión la causa detrás de la conexión lenta que observó.\n",
    "\n",
    "Con las funciones argmin y argmax de pandas, podrá encontrar las fechas y las horas correspondientes al tiempo más breve y extenso de ping, la velocidad de descarga más baja y más alta y la velocidad de carga más baja y más alta.\n"
   ]
  },
  {
   "cell_type": "code",
   "execution_count": 32,
   "metadata": {},
   "outputs": [
    {
     "name": "stderr",
     "output_type": "stream",
     "text": [
      "C:\\Users\\Blue\\Anaconda3\\lib\\site-packages\\ipykernel_launcher.py:3: FutureWarning: \n",
      "The current behaviour of 'Series.argmin' is deprecated, use 'idxmin'\n",
      "instead.\n",
      "The behavior of 'argmin' will be corrected to return the positional\n",
      "minimum in the future. For now, use 'series.values.argmin' or\n",
      "'np.argmin(np.array(values))' to get the position of the minimum\n",
      "row.\n",
      "  This is separate from the ipykernel package so we can avoid doing imports until\n",
      "C:\\Users\\Blue\\Anaconda3\\lib\\site-packages\\ipykernel_launcher.py:4: FutureWarning: \n",
      "The current behaviour of 'Series.argmax' is deprecated, use 'idxmax'\n",
      "instead.\n",
      "The behavior of 'argmax' will be corrected to return the positional\n",
      "maximum in the future. For now, use 'series.values.argmax' or\n",
      "'np.argmax(np.array(values))' to get the position of the maximum\n",
      "row.\n",
      "  after removing the cwd from sys.path.\n",
      "C:\\Users\\Blue\\Anaconda3\\lib\\site-packages\\ipykernel_launcher.py:7: FutureWarning: \n",
      "The current behaviour of 'Series.argmin' is deprecated, use 'idxmin'\n",
      "instead.\n",
      "The behavior of 'argmin' will be corrected to return the positional\n",
      "minimum in the future. For now, use 'series.values.argmin' or\n",
      "'np.argmin(np.array(values))' to get the position of the minimum\n",
      "row.\n",
      "  import sys\n",
      "C:\\Users\\Blue\\Anaconda3\\lib\\site-packages\\ipykernel_launcher.py:8: FutureWarning: \n",
      "The current behaviour of 'Series.argmax' is deprecated, use 'idxmax'\n",
      "instead.\n",
      "The behavior of 'argmax' will be corrected to return the positional\n",
      "maximum in the future. For now, use 'series.values.argmax' or\n",
      "'np.argmax(np.array(values))' to get the position of the maximum\n",
      "row.\n",
      "  \n",
      "C:\\Users\\Blue\\Anaconda3\\lib\\site-packages\\ipykernel_launcher.py:11: FutureWarning: \n",
      "The current behaviour of 'Series.argmin' is deprecated, use 'idxmin'\n",
      "instead.\n",
      "The behavior of 'argmin' will be corrected to return the positional\n",
      "minimum in the future. For now, use 'series.values.argmin' or\n",
      "'np.argmin(np.array(values))' to get the position of the minimum\n",
      "row.\n",
      "  # This is added back by InteractiveShellApp.init_path()\n",
      "C:\\Users\\Blue\\Anaconda3\\lib\\site-packages\\ipykernel_launcher.py:12: FutureWarning: \n",
      "The current behaviour of 'Series.argmax' is deprecated, use 'idxmax'\n",
      "instead.\n",
      "The behavior of 'argmax' will be corrected to return the positional\n",
      "maximum in the future. For now, use 'series.values.argmax' or\n",
      "'np.argmax(np.array(values))' to get the position of the maximum\n",
      "row.\n",
      "  if sys.path[0] == '':\n"
     ]
    }
   ],
   "source": [
    "# Code Cell 25\n",
    "# Find the min and max ping time\n",
    "argmin_ping = df_clean['Ping(ms)'].argmin()\n",
    "argmax_ping = df_clean['Ping(ms)'].argmax()\n",
    "\n",
    "# Find the min and max download speed\n",
    "argmin_download = df_clean['Download (Mbit/s)'].argmin()\n",
    "argmax_download = df_clean['Download (Mbit/s)'].argmax()\n",
    "\n",
    "# Find the min and max upload speed\n",
    "argmin_upload = df_clean['Upload (Mbit/s)'].argmin()\n",
    "argmax_upload = df_clean['Upload (Mbit/s)'].argmax()"
   ]
  },
  {
   "cell_type": "code",
   "execution_count": 33,
   "metadata": {},
   "outputs": [
    {
     "data": {
      "text/html": [
       "<div>\n",
       "<style scoped>\n",
       "    .dataframe tbody tr th:only-of-type {\n",
       "        vertical-align: middle;\n",
       "    }\n",
       "\n",
       "    .dataframe tbody tr th {\n",
       "        vertical-align: top;\n",
       "    }\n",
       "\n",
       "    .dataframe thead th {\n",
       "        text-align: right;\n",
       "    }\n",
       "</style>\n",
       "<table border=\"1\" class=\"dataframe\">\n",
       "  <thead>\n",
       "    <tr style=\"text-align: right;\">\n",
       "      <th></th>\n",
       "      <th>field_1</th>\n",
       "      <th>field_2</th>\n",
       "    </tr>\n",
       "  </thead>\n",
       "  <tbody>\n",
       "    <tr>\n",
       "      <td>0</td>\n",
       "      <td>0</td>\n",
       "      <td>0</td>\n",
       "    </tr>\n",
       "    <tr>\n",
       "      <td>1</td>\n",
       "      <td>1</td>\n",
       "      <td>2</td>\n",
       "    </tr>\n",
       "  </tbody>\n",
       "</table>\n",
       "</div>"
      ],
      "text/plain": [
       "   field_1  field_2\n",
       "0        0        0\n",
       "1        1        2"
      ]
     },
     "execution_count": 33,
     "metadata": {},
     "output_type": "execute_result"
    }
   ],
   "source": [
    "# Code Cell 26\n",
    "# Create a small DataFrame and access its rows using iloc\n",
    "\n",
    "# A pandas DataFrame can be initialized passing a dict as a parameter to the constructor pd.DataFrame(). \n",
    "# The key will represent the column, the values the rows.\n",
    "df = pd.DataFrame({'field_1': [0,1], 'field_2': [0,2]})\n",
    "df.head()"
   ]
  },
  {
   "cell_type": "code",
   "execution_count": 34,
   "metadata": {},
   "outputs": [
    {
     "data": {
      "text/plain": [
       "1"
      ]
     },
     "execution_count": 34,
     "metadata": {},
     "output_type": "execute_result"
    }
   ],
   "source": [
    "# Code Cell 27\n",
    "# To access the field_1 of the first row using iloc()\n",
    "df.iloc[1]['field_1']\n",
    "\n"
   ]
  },
  {
   "cell_type": "code",
   "execution_count": 37,
   "metadata": {},
   "outputs": [
    {
     "name": "stdout",
     "output_type": "stream",
     "text": [
      "La velocidad minima de Ping se alcanzo el 2016-11-24 a las 15:26:20\n",
      "La velocidad minima de descarga se alcanzo el 2016-11-24 las 14:57:55\n",
      "La velocidad minima de carga se alcanzo el 2016-11-24 las 17:31:47\n",
      "La velocidad maxima de Ping se alcanzo el 2016-11-24 a las 17:30:06\n",
      "La velocidad maxima de descarga se alcanzo el 2016-11-24 las 17:02:49\n",
      "La velocidad maxima de carga se alcanzo el 2016-11-24 las 18:02:15\n"
     ]
    }
   ],
   "source": [
    "# Code Cell 28\n",
    "# print the corresponding Date and Time\n",
    "print('La velocidad minima de Ping se alcanzo el {} a las {}'.format(df_clean.loc[argmin_ping].Date, \n",
    "                                                        df_clean.loc[argmin_ping].Time))\n",
    "\n",
    "print('La velocidad minima de descarga se alcanzo el {} las {}'.format(df_clean.loc[argmin_download].Date, \n",
    "                                                        df_clean.loc[argmin_download].Time))\n",
    "\n",
    "print('La velocidad minima de carga se alcanzo el {} las {}'.format(df_clean.loc[argmin_upload].Date, \n",
    "                                                        df_clean.loc[argmin_upload].Time))\n",
    "\n",
    "\n",
    "print('La velocidad maxima de Ping se alcanzo el {} a las {}'.format(df_clean.loc[argmax_ping].Date, \n",
    "                                                        df_clean.loc[argmax_ping].Time))\n",
    "\n",
    "print('La velocidad maxima de descarga se alcanzo el {} las {}'.format(df_clean.loc[argmax_download].Date, \n",
    "                                                        df_clean.loc[argmax_download].Time))\n",
    "\n",
    "print('La velocidad maxima de carga se alcanzo el {} las {}'.format(df_clean.loc[argmax_upload].Date, \n",
    "                                                        df_clean.loc[argmax_upload].Time))\n"
   ]
  },
  {
   "cell_type": "markdown",
   "metadata": {},
   "source": [
    "### Cree una correlación"
   ]
  },
  {
   "cell_type": "code",
   "execution_count": 38,
   "metadata": {},
   "outputs": [
    {
     "data": {
      "text/html": [
       "<div>\n",
       "<style scoped>\n",
       "    .dataframe tbody tr th:only-of-type {\n",
       "        vertical-align: middle;\n",
       "    }\n",
       "\n",
       "    .dataframe tbody tr th {\n",
       "        vertical-align: top;\n",
       "    }\n",
       "\n",
       "    .dataframe thead th {\n",
       "        text-align: right;\n",
       "    }\n",
       "</style>\n",
       "<table border=\"1\" class=\"dataframe\">\n",
       "  <thead>\n",
       "    <tr style=\"text-align: right;\">\n",
       "      <th></th>\n",
       "      <th>Upload (Mbit/s)</th>\n",
       "      <th>Ping(ms)</th>\n",
       "      <th>Download (Mbit/s)</th>\n",
       "    </tr>\n",
       "  </thead>\n",
       "  <tbody>\n",
       "    <tr>\n",
       "      <td>Upload (Mbit/s)</td>\n",
       "      <td>1.000000</td>\n",
       "      <td>-0.463348</td>\n",
       "      <td>0.084833</td>\n",
       "    </tr>\n",
       "    <tr>\n",
       "      <td>Ping(ms)</td>\n",
       "      <td>-0.463348</td>\n",
       "      <td>1.000000</td>\n",
       "      <td>-0.045271</td>\n",
       "    </tr>\n",
       "    <tr>\n",
       "      <td>Download (Mbit/s)</td>\n",
       "      <td>0.084833</td>\n",
       "      <td>-0.045271</td>\n",
       "      <td>1.000000</td>\n",
       "    </tr>\n",
       "  </tbody>\n",
       "</table>\n",
       "</div>"
      ],
      "text/plain": [
       "                   Upload (Mbit/s)  Ping(ms)  Download (Mbit/s)\n",
       "Upload (Mbit/s)           1.000000 -0.463348           0.084833\n",
       "Ping(ms)                 -0.463348  1.000000          -0.045271\n",
       "Download (Mbit/s)         0.084833 -0.045271           1.000000"
      ]
     },
     "execution_count": 38,
     "metadata": {},
     "output_type": "execute_result"
    }
   ],
   "source": [
    "df_corr = df_clean.corr()\n",
    "df_corr"
   ]
  },
  {
   "cell_type": "code",
   "execution_count": 39,
   "metadata": {},
   "outputs": [
    {
     "name": "stdout",
     "output_type": "stream",
     "text": [
      "Correlation coefficient between ping and download: -0.46334785028069125\n",
      "Correlation coefficient between ping and upload: 0.08483302146561673\n",
      "Correlation coefficient between upload and download: -0.04527104992092839\n"
     ]
    }
   ],
   "source": [
    "# Code Cell 30\n",
    "corr = df_corr.values\n",
    "print('Correlation coefficient between ping and download: {}'.format(corr[0, 1]))\n",
    "print('Correlation coefficient between ping and upload: {}'.format(corr[0, 2]))\n",
    "print('Correlation coefficient between upload and download: {}'.format(corr[2, 1]))"
   ]
  },
  {
   "cell_type": "markdown",
   "metadata": {},
   "source": [
    "### *Parte 2: Visualización de datos*"
   ]
  },
  {
   "cell_type": "code",
   "execution_count": 40,
   "metadata": {},
   "outputs": [],
   "source": [
    "# importar librerias\n",
    "import matplotlib.pyplot as plt\n",
    "\n",
    "# The following allows your Jupyter notebook to create plots inside a cell\n",
    "%matplotlib inline "
   ]
  },
  {
   "cell_type": "markdown",
   "metadata": {},
   "source": [
    "Cree un gráfico con las estadísticas de la velocidad de Internet"
   ]
  },
  {
   "cell_type": "code",
   "execution_count": 48,
   "metadata": {},
   "outputs": [
    {
     "data": {
      "image/png": "[encoded data removed]",
      "text/plain": [
       "<Figure size 720x360 with 1 Axes>"
      ]
     },
     "metadata": {
      "needs_background": "light"
     },
     "output_type": "display_data"
    }
   ],
   "source": [
    "# Code Cell 32\n",
    "# Initialise figure\n",
    "fig, ax = plt.subplots(figsize=(10, 5))\n",
    "\n",
    "# Create x-axis\n",
    "t = pd.to_datetime(df_clean['Time'])\n",
    "\n",
    "# Plot three curves of different colors\n",
    "ax.plot(t, df_clean['Ping(ms)'], label='Ping(ms)')\n",
    "ax.plot(t, df_clean['Upload (Mbit/s)'],'*', label='Upload (Mbit/s)')\n",
    "ax.plot(t, df_clean['Download (Mbit/s)'],'o', label='Download (Mbit/s)')\n",
    "\n",
    "# Insert legend\n",
    "ax.legend()\n",
    "#Add axis labels and title\n",
    "ax.set_xlabel('Hora (hh:mm:ss)', size=16)\n",
    "ax.set_ylabel('Velocidad en Mbps', size=16)\n",
    "ax.set_title('Velocidad de Internet', size=16)\n",
    "ax.tick_params(labelsize=12)\n",
    "\n",
    "plt.show()"
   ]
  },
  {
   "cell_type": "code",
   "execution_count": 50,
   "metadata": {},
   "outputs": [
    {
     "data": {
      "image/png": "[encoded data removed]",
      "text/plain": [
       "<Figure size 720x360 with 1 Axes>"
      ]
     },
     "metadata": {},
     "output_type": "display_data"
    }
   ],
   "source": [
    "with plt.style.context('fivethirtyeight'):\n",
    "    fig, ax = plt.subplots(figsize=(10, 5))\n",
    "\n",
    "    # Create x-axis\n",
    "    t = pd.to_datetime(df_clean['Time'])\n",
    "\n",
    "    # Plot three curves of different colors\n",
    "    ax.plot(t, df_clean['Ping(ms)'], label='Ping(ms)')\n",
    "    ax.plot(t, df_clean['Upload (Mbit/s)'],'*', label='Upload (Mbit/s)')\n",
    "    ax.plot(t, df_clean['Download (Mbit/s)'],'o', label='Download (Mbit/s)')\n",
    "\n",
    "    # Insert legend\n",
    "    ax.legend()\n",
    "    #Add axis labels and title\n",
    "    ax.set_xlabel('Hora (hh:mm:ss)', size=16)\n",
    "    ax.set_ylabel('Velocidad en Mbps', size=16)\n",
    "    ax.set_title('Velocidad de Internet', size=16)\n",
    "    ax.tick_params(labelsize=12)\n",
    "\n",
    "    plt.show()"
   ]
  },
  {
   "cell_type": "markdown",
   "metadata": {},
   "source": [
    "### Cree un histograma"
   ]
  },
  {
   "cell_type": "code",
   "execution_count": 51,
   "metadata": {},
   "outputs": [
    {
     "data": {
      "image/png": "[encoded data removed]",
      "text/plain": [
       "<Figure size 720x720 with 4 Axes>"
      ]
     },
     "metadata": {},
     "output_type": "display_data"
    }
   ],
   "source": [
    "# Code Cell 37\n",
    "with plt.style.context('fivethirtyeight'):\n",
    "    \n",
    "    # Initialize figure\n",
    "    fig, ax = plt.subplots(2, 2, figsize=(10, 10))\n",
    "    ax[0][0].hist(df_clean['Ping(ms)'], 25)\n",
    "    ax[0][0].set_xlabel('Ping(ms)', fontsize=16)\n",
    "    ax[0][0].tick_params(labelsize=14)\n",
    "    ax[0][1].hist(df_clean['Upload (Mbit/s)'], 25)\n",
    "    ax[0][1].set_xlabel('Upload (Mbit/s)', fontsize=16)\n",
    "    ax[0][1].tick_params(labelsize=14)\n",
    "    ax[1][0].hist(df_clean['Download (Mbit/s)'], 25)\n",
    "    ax[1][0].set_xlabel('Download (Mbit/s)', fontsize=16)\n",
    "    ax[1][0].tick_params(labelsize=14)\n",
    "    ax[1][1].set_visible(False)"
   ]
  },
  {
   "cell_type": "code",
   "execution_count": null,
   "metadata": {},
   "outputs": [],
   "source": []
  }
 ],
 "metadata": {
  "kernelspec": {
   "display_name": "Python 3",
   "language": "python",
   "name": "python3"
  },
  "language_info": {
   "codemirror_mode": {
    "name": "ipython",
    "version": 3
   },
   "file_extension": ".py",
   "mimetype": "text/x-python",
   "name": "python",
   "nbconvert_exporter": "python",
   "pygments_lexer": "ipython3",
   "version": "3.7.4"
  }
 },
 "nbformat": 4,
 "nbformat_minor": 4
}
